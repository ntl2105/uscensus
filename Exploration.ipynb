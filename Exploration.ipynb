{
 "cells": [
  {
   "cell_type": "code",
   "execution_count": 1,
   "metadata": {
    "collapsed": true
   },
   "outputs": [],
   "source": [
    "#general \n",
    "import pandas as pd\n",
    "import numpy as np\n",
    "\n",
    "#us census \n",
    "from census import Census\n",
    "from us import states\n",
    "import config"
   ]
  },
  {
   "cell_type": "code",
   "execution_count": 2,
   "metadata": {
    "collapsed": false
   },
   "outputs": [
    {
     "data": {
      "text/plain": [
       "[{'B25034_010E': 18739.0, 'NAME': 'South Dakota', 'state': '46'}]"
      ]
     },
     "execution_count": 2,
     "metadata": {},
     "output_type": "execute_result"
    }
   ],
   "source": [
    "c = Census(config.api_key, year = 2016)\n",
    "c.acs5.get(('NAME', 'B25034_010E'),\n",
    "          {'for': 'state:{}'.format(states.SD.fips)})"
   ]
  },
  {
   "cell_type": "code",
   "execution_count": 3,
   "metadata": {
    "collapsed": false
   },
   "outputs": [
    {
     "data": {
      "text/plain": [
       "[{'B25034_010E': 133511.0, 'NAME': 'Maryland', 'state': '24'}]"
      ]
     },
     "execution_count": 3,
     "metadata": {},
     "output_type": "execute_result"
    }
   ],
   "source": [
    "c.acs5.state(('NAME', 'B25034_010E'), states.MD.fips)"
   ]
  },
  {
   "cell_type": "code",
   "execution_count": 4,
   "metadata": {
    "collapsed": false
   },
   "outputs": [
    {
     "data": {
      "text/plain": [
       "[{'B01003_001E': 64120.0,\n",
       "  'NAME': 'ZCTA5 10027',\n",
       "  'zip code tabulation area': '10027'}]"
      ]
     },
     "execution_count": 4,
     "metadata": {},
     "output_type": "execute_result"
    }
   ],
   "source": [
    "c.acs5.zipcode(('NAME', 'B01003_001E'), 10027)"
   ]
  },
  {
   "cell_type": "code",
   "execution_count": 5,
   "metadata": {
    "collapsed": false
   },
   "outputs": [
    {
     "data": {
      "text/html": [
       "<div>\n",
       "<style scoped>\n",
       "    .dataframe tbody tr th:only-of-type {\n",
       "        vertical-align: middle;\n",
       "    }\n",
       "\n",
       "    .dataframe tbody tr th {\n",
       "        vertical-align: top;\n",
       "    }\n",
       "\n",
       "    .dataframe thead th {\n",
       "        text-align: right;\n",
       "    }\n",
       "</style>\n",
       "<table border=\"1\" class=\"dataframe\">\n",
       "  <thead>\n",
       "    <tr style=\"text-align: right;\">\n",
       "      <th></th>\n",
       "      <th>B15003_022E</th>\n",
       "      <th>NAME</th>\n",
       "      <th>zip code tabulation area</th>\n",
       "    </tr>\n",
       "  </thead>\n",
       "  <tbody>\n",
       "    <tr>\n",
       "      <th>0</th>\n",
       "      <td>5008.0</td>\n",
       "      <td>ZCTA5 90210</td>\n",
       "      <td>90210</td>\n",
       "    </tr>\n",
       "  </tbody>\n",
       "</table>\n",
       "</div>"
      ],
      "text/plain": [
       "   B15003_022E         NAME zip code tabulation area\n",
       "0       5008.0  ZCTA5 90210                    90210"
      ]
     },
     "execution_count": 5,
     "metadata": {},
     "output_type": "execute_result"
    }
   ],
   "source": [
    "#Total Population \n",
    "c.acs5.state(('NAME', 'B01003_001E'), states.MD.fips) \n",
    "#Population: white-alone\n",
    "c.acs5.zipcode(('NAME', \"B02001_002E\"), 10027)\n",
    "#Number of persons whose income in the past 12 months is below the poverty level.\n",
    "c.acs5.zipcode(('NAME', \"B17001_002E\"), 90210)\n",
    "#Median household income in the past 12 months (in 2013 inflation-adjusted dollars).\n",
    "c.acs5.zipcode(('NAME', \"B19013_001E\"), 90210)\n",
    "#Number of unemployed, age 16 or older, in the civilian labor force.\n",
    "c.acs5.zipcode(('NAME', \"B23025_005E\"), 90210)\n",
    "#Number of persons, age 16 or older, not in the labor force.\n",
    "c.acs5.zipcode(('NAME', \"B23025_007E\"), 90210)\n",
    "#The number of persons age 25 and over who completed no schooling.\n",
    "d1 = c.acs5.zipcode((\"B15003_002E\"), 90210)\n",
    "#The number of persons age 25 and over who have a regular high school diploma.\n",
    "d2 = c.acs5.zipcode((\"B15003_017E\"), 90210)\n",
    "#The number of persons age 25 and over who hold a Bachelor's degree\n",
    "pd.DataFrame(c.acs5.zipcode(('NAME', \"B15003_022E\"), 90210))"
   ]
  },
  {
   "cell_type": "code",
   "execution_count": 8,
   "metadata": {
    "collapsed": true
   },
   "outputs": [],
   "source": [
    "variables = \"B01003_001E\", \"B02001_002E\", \"B17001_002E\", \"B19013_001E\", \"B23025_005E\", \"B23025_007E\", \"B15003_002E\", \"B15003_017E\", \"B15003_022E\""
   ]
  },
  {
   "cell_type": "code",
   "execution_count": null,
   "metadata": {
    "collapsed": true
   },
   "outputs": [],
   "source": []
  },
  {
   "cell_type": "code",
   "execution_count": 9,
   "metadata": {
    "collapsed": false
   },
   "outputs": [
    {
     "ename": "NameError",
     "evalue": "name 'zip_codes' is not defined",
     "output_type": "error",
     "traceback": [
      "\u001b[0;31m---------------------------------------------------------------------------\u001b[0m",
      "\u001b[0;31mNameError\u001b[0m                                 Traceback (most recent call last)",
      "\u001b[0;32m<ipython-input-9-10e7af1397ea>\u001b[0m in \u001b[0;36m<module>\u001b[0;34m()\u001b[0m\n\u001b[1;32m      1\u001b[0m \u001b[0mdata_list\u001b[0m \u001b[0;34m=\u001b[0m \u001b[0;34m[\u001b[0m\u001b[0;34m]\u001b[0m\u001b[0;34m\u001b[0m\u001b[0m\n\u001b[0;32m----> 2\u001b[0;31m \u001b[0;32mfor\u001b[0m \u001b[0mzip_code\u001b[0m \u001b[0;32min\u001b[0m \u001b[0mzip_codes\u001b[0m \u001b[0;34m:\u001b[0m\u001b[0;34m\u001b[0m\u001b[0m\n\u001b[0m\u001b[1;32m      3\u001b[0m     \u001b[0mdata_zip_code\u001b[0m \u001b[0;34m=\u001b[0m \u001b[0mc\u001b[0m\u001b[0;34m.\u001b[0m\u001b[0macs5\u001b[0m\u001b[0;34m.\u001b[0m\u001b[0mzipcode\u001b[0m\u001b[0;34m(\u001b[0m\u001b[0;34m(\u001b[0m\u001b[0mvariables\u001b[0m\u001b[0;34m)\u001b[0m\u001b[0;34m,\u001b[0m \u001b[0mzip_code\u001b[0m\u001b[0;34m)\u001b[0m\u001b[0;34m\u001b[0m\u001b[0m\n\u001b[1;32m      4\u001b[0m     \u001b[0mdata_list\u001b[0m\u001b[0;34m.\u001b[0m\u001b[0mextend\u001b[0m\u001b[0;34m(\u001b[0m\u001b[0mdata_zip_code\u001b[0m\u001b[0;34m)\u001b[0m\u001b[0;34m\u001b[0m\u001b[0m\n\u001b[1;32m      5\u001b[0m \u001b[0;34m\u001b[0m\u001b[0m\n",
      "\u001b[0;31mNameError\u001b[0m: name 'zip_codes' is not defined"
     ]
    }
   ],
   "source": [
    "data_list = []\n",
    "for zip_code in zip_codes :\n",
    "    data_zip_code = c.acs5.zipcode((variables), zip_code)\n",
    "    data_list.extend(data_zip_code)\n",
    "\n",
    "df = pd.DataFrame(data_list)"
   ]
  },
  {
   "cell_type": "code",
   "execution_count": null,
   "metadata": {
    "collapsed": true
   },
   "outputs": [],
   "source": []
  },
  {
   "cell_type": "code",
   "execution_count": null,
   "metadata": {
    "collapsed": true
   },
   "outputs": [],
   "source": []
  }
 ],
 "metadata": {
  "kernelspec": {
   "display_name": "Python [conda root]",
   "language": "python",
   "name": "conda-root-py"
  },
  "language_info": {
   "codemirror_mode": {
    "name": "ipython",
    "version": 3
   },
   "file_extension": ".py",
   "mimetype": "text/x-python",
   "name": "python",
   "nbconvert_exporter": "python",
   "pygments_lexer": "ipython3",
   "version": "3.5.5"
  }
 },
 "nbformat": 4,
 "nbformat_minor": 2
}
