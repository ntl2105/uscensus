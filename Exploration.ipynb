{
 "cells": [
  {
   "cell_type": "code",
   "execution_count": 1,
   "metadata": {
    "collapsed": true
   },
   "outputs": [],
   "source": [
    "#general \n",
    "import pandas as pd\n",
    "import numpy as np\n",
    "\n",
    "#us census \n",
    "from census import Census\n",
    "from us import states\n",
    "import config"
   ]
  },
  {
   "cell_type": "code",
   "execution_count": 2,
   "metadata": {
    "collapsed": false
   },
   "outputs": [
    {
     "data": {
      "text/plain": [
       "[{'B25034_010E': 18739.0, 'NAME': 'South Dakota', 'state': '46'}]"
      ]
     },
     "execution_count": 2,
     "metadata": {},
     "output_type": "execute_result"
    }
   ],
   "source": [
    "c = Census(config.api_key, year = 2016)\n",
    "c.acs5.get(('NAME', 'B25034_010E'),\n",
    "          {'for': 'state:{}'.format(states.SD.fips)})"
   ]
  },
  {
   "cell_type": "code",
   "execution_count": 3,
   "metadata": {
    "collapsed": false
   },
   "outputs": [
    {
     "data": {
      "text/plain": [
       "[{'B25034_010E': 133511.0, 'NAME': 'Maryland', 'state': '24'}]"
      ]
     },
     "execution_count": 3,
     "metadata": {},
     "output_type": "execute_result"
    }
   ],
   "source": [
    "c.acs5.state(('NAME', 'B25034_010E'), states.MD.fips)"
   ]
  },
  {
   "cell_type": "code",
   "execution_count": 4,
   "metadata": {
    "collapsed": false
   },
   "outputs": [
    {
     "data": {
      "text/plain": [
       "[{'B01003_001E': 64120.0,\n",
       "  'NAME': 'ZCTA5 10027',\n",
       "  'zip code tabulation area': '10027'}]"
      ]
     },
     "execution_count": 4,
     "metadata": {},
     "output_type": "execute_result"
    }
   ],
   "source": [
    "c.acs5.zipcode(('NAME', 'B01003_001E'), 10027)"
   ]
  },
  {
   "cell_type": "code",
   "execution_count": 5,
   "metadata": {
    "collapsed": false
   },
   "outputs": [
    {
     "data": {
      "text/html": [
       "<div>\n",
       "<style scoped>\n",
       "    .dataframe tbody tr th:only-of-type {\n",
       "        vertical-align: middle;\n",
       "    }\n",
       "\n",
       "    .dataframe tbody tr th {\n",
       "        vertical-align: top;\n",
       "    }\n",
       "\n",
       "    .dataframe thead th {\n",
       "        text-align: right;\n",
       "    }\n",
       "</style>\n",
       "<table border=\"1\" class=\"dataframe\">\n",
       "  <thead>\n",
       "    <tr style=\"text-align: right;\">\n",
       "      <th></th>\n",
       "      <th>B15003_022E</th>\n",
       "      <th>NAME</th>\n",
       "      <th>zip code tabulation area</th>\n",
       "    </tr>\n",
       "  </thead>\n",
       "  <tbody>\n",
       "    <tr>\n",
       "      <th>0</th>\n",
       "      <td>5008.0</td>\n",
       "      <td>ZCTA5 90210</td>\n",
       "      <td>90210</td>\n",
       "    </tr>\n",
       "  </tbody>\n",
       "</table>\n",
       "</div>"
      ],
      "text/plain": [
       "   B15003_022E         NAME zip code tabulation area\n",
       "0       5008.0  ZCTA5 90210                    90210"
      ]
     },
     "execution_count": 5,
     "metadata": {},
     "output_type": "execute_result"
    }
   ],
   "source": [
    "#Total Population \n",
    "c.acs5.state(('NAME', 'B01003_001E'), states.MD.fips) \n",
    "#Population: white-alone\n",
    "c.acs5.zipcode(('NAME', \"B02001_002E\"), 10027)\n",
    "#Number of persons whose income in the past 12 months is below the poverty level.\n",
    "c.acs5.zipcode(('NAME', \"B17001_002E\"), 90210)\n",
    "#Median household income in the past 12 months (in 2013 inflation-adjusted dollars).\n",
    "c.acs5.zipcode(('NAME', \"B19013_001E\"), 90210)\n",
    "#Number of unemployed, age 16 or older, in the civilian labor force.\n",
    "c.acs5.zipcode(('NAME', \"B23025_005E\"), 90210)\n",
    "#Number of persons, age 16 or older, not in the labor force.\n",
    "c.acs5.zipcode(('NAME', \"B23025_007E\"), 90210)\n",
    "#The number of persons age 25 and over who completed no schooling.\n",
    "d1 = c.acs5.zipcode((\"B15003_002E\"), 90210)\n",
    "#The number of persons age 25 and over who have a regular high school diploma.\n",
    "d2 = c.acs5.zipcode((\"B15003_017E\"), 90210)\n",
    "#The number of persons age 25 and over who hold a Bachelor's degree\n",
    "pd.DataFrame(c.acs5.zipcode(('NAME', \"B15003_022E\"), 90210))"
   ]
  },
  {
   "cell_type": "code",
   "execution_count": 8,
   "metadata": {
    "collapsed": true
   },
   "outputs": [],
   "source": [
    "variables = \"B01003_001E\", \"B02001_002E\", \"B17001_002E\", \"B19013_001E\", \"B23025_005E\", \"B23025_007E\", \"B15003_002E\", \"B15003_017E\", \"B15003_022E\""
   ]
  },
  {
   "cell_type": "code",
   "execution_count": 10,
   "metadata": {
    "collapsed": false
   },
   "outputs": [
    {
     "data": {
      "text/plain": [
       "385"
      ]
     },
     "execution_count": 10,
     "metadata": {},
     "output_type": "execute_result"
    }
   ],
   "source": [
    "zip_codes = [57001,57002,57003,57004,57005,57006,57007,57010,57012,57013,57014,57015,57016,57017,57018,57020,57021,57022,57024,57025,57026,57027,57028,57029,57030,57031,57032,57033,57034,57035,57036,57037,57038,57039,57040,57041,57042,57043,57045,57046,57047,57048,57049,57050,57051,57052,57053,57054,57055,57057,57058,57059,57061,57062,57063,57064,57065,57066,57067,57068,57069,57070,57071,57072,57073,57075,57076,57077,57078,57101,57103,57104,57105,57106,57107,57108,57109,57110,57117,57118,57186,57193,57197,57198,57201,57212,57213,57214,57216,57217,57218,57219,57220,57221,57223,57224,57225,57226,57227,57231,57232,57233,57234,57235,57236,57237,57238,57239,57241,57242,57243,57245,57246,57247,57248,57249,57251,57252,57255,57256,57257,57258,57259,57260,57261,57262,57263,57264,57265,57266,57268,57269,57270,57271,57272,57273,57274,57276,57278,57279,57301,57311,57312,57313,57314,57315,57317,57319,57321,57322,57323,57324,57325,57326,57328,57329,57330,57331,57332,57334,57335,57337,57339,57340,57341,57342,57344,57345,57346,57348,57349,57350,57353,57354,57355,57356,57358,57359,57361,57362,57363,57364,57365,57366,57367,57368,57369,57370,57371,57373,57374,57375,57376,57379,57380,57381,57382,57383,57384,57385,57386,57399,57401,57402,57420,57421,57422,57424,57426,57427,57428,57429,57430,57432,57433,57434,57435,57436,57437,57438,57439,57440,57441,57442,57445,57446,57448,57449,57450,57451,57452,57454,57455,57456,57457,57460,57461,57465,57466,57467,57468,57469,57470,57471,57472,57473,57474,57475,57476,57477,57479,57481,57501,57520,57521,57522,57523,57528,57529,57531,57532,57533,57534,57536,57537,57538,57540,57541,57543,57544,57547,57548,57551,57552,57553,57555,57559,57560,57562,57563,57564,57566,57567,57568,57569,57570,57571,57572,57574,57576,57577,57579,57580,57584,57585,57601,57620,57621,57622,57623,57625,57626,57630,57631,57632,57633,57634,57636,57638,57639,57640,57641,57642,57644,57645,57646,57648,57649,57650,57651,57652,57656,57657,57658,57659,57660,57661,57701,57702,57703,57706,57709,57714,57716,57717,57718,57719,57720,57722,57724,57725,57730,57732,57735,57737,57738,57741,57744,57745,57747,57748,57750,57751,57752,57754,57755,57756,57758,57759,57760,57761,57762,57763,57764,57766,57767,57769,57770,57772,57773,57775,57776,57779,57780,57782,57783,57785,57787,57788,57790,57791,57792,57793,57794,57799]\n",
    "len(zip_codes)"
   ]
  },
  {
   "cell_type": "code",
   "execution_count": 11,
   "metadata": {
    "collapsed": false
   },
   "outputs": [],
   "source": [
    "data_list = []\n",
    "for zip_code in zip_codes :\n",
    "    data_zip_code = c.acs5.zipcode((variables), zip_code)\n",
    "    data_list.extend(data_zip_code)\n",
    "\n",
    "df = pd.DataFrame(data_list)"
   ]
  },
  {
   "cell_type": "code",
   "execution_count": 12,
   "metadata": {
    "collapsed": false
   },
   "outputs": [
    {
     "data": {
      "text/html": [
       "<div>\n",
       "<style scoped>\n",
       "    .dataframe tbody tr th:only-of-type {\n",
       "        vertical-align: middle;\n",
       "    }\n",
       "\n",
       "    .dataframe tbody tr th {\n",
       "        vertical-align: top;\n",
       "    }\n",
       "\n",
       "    .dataframe thead th {\n",
       "        text-align: right;\n",
       "    }\n",
       "</style>\n",
       "<table border=\"1\" class=\"dataframe\">\n",
       "  <thead>\n",
       "    <tr style=\"text-align: right;\">\n",
       "      <th></th>\n",
       "      <th>B01003_001E</th>\n",
       "      <th>B02001_002E</th>\n",
       "      <th>B15003_002E</th>\n",
       "      <th>B15003_017E</th>\n",
       "      <th>B15003_022E</th>\n",
       "      <th>B17001_002E</th>\n",
       "      <th>B19013_001E</th>\n",
       "      <th>B23025_005E</th>\n",
       "      <th>B23025_007E</th>\n",
       "      <th>zip code tabulation area</th>\n",
       "    </tr>\n",
       "  </thead>\n",
       "  <tbody>\n",
       "    <tr>\n",
       "      <th>0</th>\n",
       "      <td>1823.0</td>\n",
       "      <td>1803.0</td>\n",
       "      <td>2.0</td>\n",
       "      <td>449.0</td>\n",
       "      <td>166.0</td>\n",
       "      <td>236.0</td>\n",
       "      <td>50347.0</td>\n",
       "      <td>26.0</td>\n",
       "      <td>512.0</td>\n",
       "      <td>57001</td>\n",
       "    </tr>\n",
       "    <tr>\n",
       "      <th>1</th>\n",
       "      <td>1050.0</td>\n",
       "      <td>1019.0</td>\n",
       "      <td>10.0</td>\n",
       "      <td>210.0</td>\n",
       "      <td>172.0</td>\n",
       "      <td>117.0</td>\n",
       "      <td>61875.0</td>\n",
       "      <td>24.0</td>\n",
       "      <td>135.0</td>\n",
       "      <td>57002</td>\n",
       "    </tr>\n",
       "    <tr>\n",
       "      <th>2</th>\n",
       "      <td>2204.0</td>\n",
       "      <td>2102.0</td>\n",
       "      <td>9.0</td>\n",
       "      <td>344.0</td>\n",
       "      <td>314.0</td>\n",
       "      <td>186.0</td>\n",
       "      <td>78788.0</td>\n",
       "      <td>37.0</td>\n",
       "      <td>331.0</td>\n",
       "      <td>57003</td>\n",
       "    </tr>\n",
       "    <tr>\n",
       "      <th>3</th>\n",
       "      <td>3549.0</td>\n",
       "      <td>3480.0</td>\n",
       "      <td>0.0</td>\n",
       "      <td>690.0</td>\n",
       "      <td>446.0</td>\n",
       "      <td>84.0</td>\n",
       "      <td>59116.0</td>\n",
       "      <td>16.0</td>\n",
       "      <td>751.0</td>\n",
       "      <td>57004</td>\n",
       "    </tr>\n",
       "    <tr>\n",
       "      <th>4</th>\n",
       "      <td>11534.0</td>\n",
       "      <td>11310.0</td>\n",
       "      <td>12.0</td>\n",
       "      <td>1544.0</td>\n",
       "      <td>1850.0</td>\n",
       "      <td>611.0</td>\n",
       "      <td>77500.0</td>\n",
       "      <td>146.0</td>\n",
       "      <td>1782.0</td>\n",
       "      <td>57005</td>\n",
       "    </tr>\n",
       "  </tbody>\n",
       "</table>\n",
       "</div>"
      ],
      "text/plain": [
       "   B01003_001E  B02001_002E  B15003_002E  B15003_017E  B15003_022E  \\\n",
       "0       1823.0       1803.0          2.0        449.0        166.0   \n",
       "1       1050.0       1019.0         10.0        210.0        172.0   \n",
       "2       2204.0       2102.0          9.0        344.0        314.0   \n",
       "3       3549.0       3480.0          0.0        690.0        446.0   \n",
       "4      11534.0      11310.0         12.0       1544.0       1850.0   \n",
       "\n",
       "   B17001_002E  B19013_001E  B23025_005E  B23025_007E zip code tabulation area  \n",
       "0        236.0      50347.0         26.0        512.0                    57001  \n",
       "1        117.0      61875.0         24.0        135.0                    57002  \n",
       "2        186.0      78788.0         37.0        331.0                    57003  \n",
       "3         84.0      59116.0         16.0        751.0                    57004  \n",
       "4        611.0      77500.0        146.0       1782.0                    57005  "
      ]
     },
     "execution_count": 12,
     "metadata": {},
     "output_type": "execute_result"
    }
   ],
   "source": [
    "df.head()"
   ]
  },
  {
   "cell_type": "code",
   "execution_count": null,
   "metadata": {
    "collapsed": true
   },
   "outputs": [],
   "source": []
  }
 ],
 "metadata": {
  "kernelspec": {
   "display_name": "Python [conda root]",
   "language": "python",
   "name": "conda-root-py"
  },
  "language_info": {
   "codemirror_mode": {
    "name": "ipython",
    "version": 3
   },
   "file_extension": ".py",
   "mimetype": "text/x-python",
   "name": "python",
   "nbconvert_exporter": "python",
   "pygments_lexer": "ipython3",
   "version": "3.5.5"
  }
 },
 "nbformat": 4,
 "nbformat_minor": 2
}
